{
 "cells": [
  {
   "cell_type": "code",
   "execution_count": 117,
   "id": "2cba32cc",
   "metadata": {},
   "outputs": [],
   "source": [
    "import numpy as np\n",
    "import networkx as nx\n",
    "\n",
    "def modified_ba_graph(n, m0, m, k):\n",
    "    G = nx.complete_graph(m0)\n",
    "    for i in range(m0):\n",
    "        G.nodes[i][\"Fitness\"] = np.random.random()\n",
    "\n",
    "    deg = nx.degree(G)\n",
    "    i = m0 + 1\n",
    "    while i < (n + 1):\n",
    "        B = []\n",
    "        G.add_node(i)\n",
    "        G.nodes[i][\"Fitness\"] = np.random.random()\n",
    "        \n",
    "        total_degrees = sum([x[1] for x in deg])\n",
    "        avg_degree = total_degrees / nx.number_of_nodes(G)\n",
    "        total_df = 0\n",
    "        for node in G.nodes():\n",
    "            total_df += G.degree(node) * G.nodes[node][\"Fitness\"]\n",
    "        \n",
    "        # calculate probability of each node\n",
    "        for node in G.nodes():\n",
    "            node_degree = G.degree(node)\n",
    "            node_fitness = G.nodes[node][\"Fitness\"]\n",
    "            p = (node_degree * node_fitness) / total_df\n",
    "            k_max = pow(k, node_fitness)\n",
    "            if k_max >= node_degree:\n",
    "                B.append(p)\n",
    "            else:\n",
    "                B.append(0)\n",
    "        B_sum = sum(B)\n",
    "        B = [i / B_sum for i in B]\n",
    "        \n",
    "        e = (i // (n // m)) + int(m * G.nodes[i][\"Fitness\"])\n",
    "        \n",
    "        # attach m edges to the nodes by preferential probability\n",
    "        selected_nodes = np.random.choice(G.nodes(), e, replace = False, p = B)\n",
    "        j = 0\n",
    "        while j < (len(selected_nodes)):\n",
    "            G.add_edge(i, selected_nodes.item(j))\n",
    "            j += 1\n",
    "        i += 1\n",
    "    return G\n",
    "\n",
    "def ba_graph(n, m0, m=1):\n",
    "    G = nx.complete_graph(m0)\n",
    "\n",
    "    deg = nx.degree(G)\n",
    "    i = m0+1\n",
    "    while i < (n+1):\n",
    "        B = []\n",
    "        G.add_node(i)\n",
    "        add = sum([x[1] for x in deg])\n",
    "        for nodes in G.nodes():\n",
    "            d_n = G.degree(nodes)\n",
    "            vals = d_n/add\n",
    "            B.append(vals)\n",
    "\n",
    "        nodes = np.random.choice(G.nodes(),m,replace = False,p=B)\n",
    "        j=0\n",
    "        while j < (len(nodes)):\n",
    "            G.add_edge(i,nodes.item(j))\n",
    "            j=j+1\n",
    "        i=i+1\n",
    "    return G  "
   ]
  },
  {
   "cell_type": "code",
   "execution_count": 129,
   "id": "f60e5ce4",
   "metadata": {
    "scrolled": false
   },
   "outputs": [
    {
     "data": {
      "image/png": "[encoded data removed]",
      "text/plain": [
       "<Figure size 432x288 with 1 Axes>"
      ]
     },
     "metadata": {
      "needs_background": "light"
     },
     "output_type": "display_data"
    },
    {
     "name": "stdout",
     "output_type": "stream",
     "text": [
      "547\n",
      "Calculating best minimal value for power law fit\n",
      "xmin progress: 00%\r",
      "xmin progress: 03%\r",
      "xmin progress: 06%\r",
      "xmin progress: 09%\r",
      "xmin progress: 12%\r",
      "xmin progress: 16%\r",
      "xmin progress: 19%\r",
      "xmin progress: 22%\r",
      "xmin progress: 25%\r",
      "xmin progress: 29%\r",
      "xmin progress: 32%\r",
      "xmin progress: 35%\r",
      "xmin progress: 38%\r",
      "xmin progress: 41%\r",
      "xmin progress: 45%\r",
      "xmin progress: 48%\r",
      "xmin progress: 51%\r",
      "xmin progress: 54%\r",
      "xmin progress: 58%\r",
      "xmin progress: 61%\r",
      "xmin progress: 64%\r",
      "xmin progress: 67%\r",
      "xmin progress: 70%\r",
      "xmin progress: 74%\r",
      "xmin progress: 77%\r",
      "xmin progress: 80%\r",
      "xmin progress: 83%\r",
      "xmin progress: 87%\r",
      "xmin progress: 90%\r",
      "xmin progress: 93%\r",
      "xmin progress: 96%\r",
      "1.5329141780967905\n",
      "8.026\n"
     ]
    },
    {
     "name": "stderr",
     "output_type": "stream",
     "text": [
      "Values less than or equal to 0 in data. Throwing out 0 or negative values\n"
     ]
    }
   ],
   "source": [
    "import matplotlib.pyplot as plt\n",
    "import powerlaw\n",
    "\n",
    "ba = modified_ba_graph(5000, 5, 5, 1000)\n",
    "\n",
    "# loglog degree distribution\n",
    "degree=nx.degree_histogram(ba)#返回图中所有节点的度分布序列\n",
    "x=range(len(degree))#生成X轴序列，从1到最大度\n",
    "y=[z/float(sum(degree)) for z in degree]#将频次转化为频率，利用列表内涵\n",
    "plt.loglog(x,y,'.',c='blue')\n",
    "plt.show()#显示图\n",
    "\n",
    "# power law estimation\n",
    "fit = powerlaw.Fit(degree)\n",
    "print(fit.power_law.alpha)\n",
    "deg = nx.degree(ba)\n",
    "total_degrees = sum([x[1] for x in deg])\n",
    "avg_degree = total_degrees / nx.number_of_nodes(ba)\n",
    "print(avg_degree)"
   ]
  },
  {
   "cell_type": "code",
   "execution_count": 99,
   "id": "09cdba07",
   "metadata": {
    "scrolled": true
   },
   "outputs": [
    {
     "data": {
      "image/png": "[encoded data removed]",
      "text/plain": [
       "<Figure size 432x288 with 1 Axes>"
      ]
     },
     "metadata": {
      "needs_background": "light"
     },
     "output_type": "display_data"
    },
    {
     "name": "stdout",
     "output_type": "stream",
     "text": [
      "Calculating best minimal value for power law fit\n",
      "xmin progress: 00%\r",
      "xmin progress: 03%\r",
      "xmin progress: 06%\r",
      "xmin progress: 09%\r",
      "xmin progress: 12%\r",
      "xmin progress: 16%\r",
      "xmin progress: 19%\r",
      "xmin progress: 22%\r",
      "xmin progress: 25%\r",
      "xmin progress: 29%\r",
      "xmin progress: 32%\r",
      "xmin progress: 35%\r",
      "xmin progress: 38%\r",
      "xmin progress: 41%\r",
      "xmin progress: 45%\r",
      "xmin progress: 48%\r",
      "xmin progress: 51%\r",
      "xmin progress: 54%\r",
      "xmin progress: 58%\r",
      "xmin progress: 61%\r",
      "xmin progress: 64%\r",
      "xmin progress: 67%\r",
      "xmin progress: 70%\r",
      "xmin progress: 74%\r",
      "xmin progress: 77%\r",
      "xmin progress: 80%\r",
      "xmin progress: 83%\r",
      "xmin progress: 87%\r",
      "xmin progress: 90%\r",
      "xmin progress: 93%\r",
      "xmin progress: 96%\r",
      "1.5837875208947598\n",
      "9.994\n"
     ]
    },
    {
     "name": "stderr",
     "output_type": "stream",
     "text": [
      "Values less than or equal to 0 in data. Throwing out 0 or negative values\n"
     ]
    }
   ],
   "source": [
    "import matplotlib.pyplot as plt\n",
    "import powerlaw\n",
    "\n",
    "ba2 = ba_graph(5000, 5, 5)\n",
    "\n",
    "# loglog degree distribution\n",
    "degree=nx.degree_histogram(ba2)#返回图中所有节点的度分布序列\n",
    "x=range(len(degree))#生成X轴序列，从1到最大度\n",
    "y=[z/float(sum(degree)) for z in degree]#将频次转化为频率，利用列表内涵\n",
    "plt.loglog(x,y,'.',c='blue')\n",
    "plt.show()#显示图\n",
    "\n",
    "# power law estimation\n",
    "fit = powerlaw.Fit(degree)\n",
    "print(fit.power_law.alpha)\n",
    "deg = nx.degree(ba2)\n",
    "total_degrees = sum([x[1] for x in deg])\n",
    "avg_degree = total_degrees / nx.number_of_nodes(ba2)\n",
    "print(avg_degree)"
   ]
  },
  {
   "cell_type": "code",
   "execution_count": 130,
   "id": "3af4c38a",
   "metadata": {},
   "outputs": [
    {
     "data": {
      "image/png": "[encoded data removed]",
      "text/plain": [
       "<Figure size 432x288 with 1 Axes>"
      ]
     },
     "metadata": {
      "needs_background": "light"
     },
     "output_type": "display_data"
    },
    {
     "name": "stdout",
     "output_type": "stream",
     "text": [
      "1046\n",
      "Calculating best minimal value for power law fit\n",
      "xmin progress: 00%\r",
      "xmin progress: 01%\r",
      "xmin progress: 03%\r",
      "xmin progress: 05%\r",
      "xmin progress: 07%\r",
      "xmin progress: 08%\r",
      "xmin progress: 10%\r",
      "xmin progress: 12%\r",
      "xmin progress: 14%\r",
      "xmin progress: 16%\r",
      "xmin progress: 17%\r",
      "xmin progress: 19%\r",
      "xmin progress: 21%\r",
      "xmin progress: 23%\r",
      "xmin progress: 25%\r",
      "xmin progress: 26%\r",
      "xmin progress: 28%\r",
      "xmin progress: 30%\r",
      "xmin progress: 32%\r",
      "xmin progress: 33%\r",
      "xmin progress: 35%\r",
      "xmin progress: 37%\r",
      "xmin progress: 39%\r",
      "xmin progress: 41%\r",
      "xmin progress: 42%\r",
      "xmin progress: 44%\r",
      "xmin progress: 46%\r",
      "xmin progress: 48%\r",
      "xmin progress: 50%\r",
      "xmin progress: 51%\r",
      "xmin progress: 53%\r",
      "xmin progress: 55%\r",
      "xmin progress: 57%\r",
      "xmin progress: 58%\r",
      "xmin progress: 60%\r",
      "xmin progress: 62%\r",
      "xmin progress: 64%\r",
      "xmin progress: 66%\r",
      "xmin progress: 67%\r",
      "xmin progress: 69%\r",
      "xmin progress: 71%\r",
      "xmin progress: 73%\r",
      "xmin progress: 75%\r",
      "xmin progress: 76%\r",
      "xmin progress: 78%\r",
      "xmin progress: 80%\r",
      "xmin progress: 82%\r",
      "xmin progress: 83%\r",
      "xmin progress: 85%\r",
      "xmin progress: 87%\r",
      "xmin progress: 89%\r",
      "xmin progress: 91%\r",
      "xmin progress: 92%\r",
      "xmin progress: 94%\r",
      "xmin progress: 96%\r",
      "xmin progress: 98%\r",
      "1.8126478275905782\n",
      "43.69101262688784\n"
     ]
    },
    {
     "name": "stderr",
     "output_type": "stream",
     "text": [
      "Values less than or equal to 0 in data. Throwing out 0 or negative values\n"
     ]
    }
   ],
   "source": [
    "import pandas as pd\n",
    "\n",
    "facebook = pd.read_csv(\n",
    "    \"facebook_combined.txt.gz\",\n",
    "    compression=\"gzip\",\n",
    "    sep=\" \",\n",
    "    names=[\"start_node\", \"end_node\"],\n",
    ")\n",
    "fb_graph = nx.from_pandas_edgelist(facebook, \"start_node\", \"end_node\")\n",
    "# loglog degree distribution\n",
    "degree=nx.degree_histogram(fb_graph)#返回图中所有节点的度分布序列\n",
    "x=range(len(degree))#生成X轴序列，从1到最大度\n",
    "y=[z/float(sum(degree)) for z in degree]#将频次转化为频率，利用列表内涵\n",
    "plt.loglog(x,y,'.',c='blue')\n",
    "plt.show()#显示图\n",
    "\n",
    "# power law estimation\n",
    "fit = powerlaw.Fit(degree)\n",
    "print(fit.power_law.alpha)\n",
    "\n",
    "# average degree\n",
    "deg = nx.degree(fb_graph)\n",
    "total_degrees = sum([x[1] for x in deg])\n",
    "avg_degree = total_degrees / nx.number_of_nodes(fb_graph)\n",
    "print(avg_degree)"
   ]
  }
 ],
 "metadata": {
  "kernelspec": {
   "display_name": "Python 3 (ipykernel)",
   "language": "python",
   "name": "python3"
  },
  "language_info": {
   "codemirror_mode": {
    "name": "ipython",
    "version": 3
   },
   "file_extension": ".py",
   "mimetype": "text/x-python",
   "name": "python",
   "nbconvert_exporter": "python",
   "pygments_lexer": "ipython3",
   "version": "3.9.12"
  }
 },
 "nbformat": 4,
 "nbformat_minor": 5
}
